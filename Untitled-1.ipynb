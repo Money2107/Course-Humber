{
 "cells": [
  {
   "cell_type": "code",
   "execution_count": 1,
   "id": "d2b028f4",
   "metadata": {},
   "outputs": [
    {
     "ename": "ModuleNotFoundError",
     "evalue": "No module named 'pandas'",
     "output_type": "error",
     "traceback": [
      "\u001b[31m---------------------------------------------------------------------------\u001b[39m",
      "\u001b[31mModuleNotFoundError\u001b[39m                       Traceback (most recent call last)",
      "\u001b[36mCell\u001b[39m\u001b[36m \u001b[39m\u001b[32mIn[1]\u001b[39m\u001b[32m, line 1\u001b[39m\n\u001b[32m----> \u001b[39m\u001b[32m1\u001b[39m \u001b[38;5;28;01mimport\u001b[39;00m\u001b[38;5;250m \u001b[39m\u001b[34;01mpandas\u001b[39;00m\u001b[38;5;250m \u001b[39m\u001b[38;5;28;01mas\u001b[39;00m\u001b[38;5;250m \u001b[39m\u001b[34;01mpd\u001b[39;00m\n\u001b[32m      2\u001b[39m \u001b[38;5;28;01mimport\u001b[39;00m\u001b[38;5;250m \u001b[39m\u001b[34;01mnumpy\u001b[39;00m\u001b[38;5;250m \u001b[39m\u001b[38;5;28;01mas\u001b[39;00m\u001b[38;5;250m \u001b[39m\u001b[34;01mnp\u001b[39;00m\n\u001b[32m      3\u001b[39m \u001b[38;5;28;01mfrom\u001b[39;00m\u001b[38;5;250m \u001b[39m\u001b[34;01mlifelines\u001b[39;00m\u001b[38;5;250m \u001b[39m\u001b[38;5;28;01mimport\u001b[39;00m KaplanMeierFitter, CoxPHFitter\n",
      "\u001b[31mModuleNotFoundError\u001b[39m: No module named 'pandas'"
     ]
    }
   ],
   "source": [
    "import pandas as pd\n",
    "import numpy as np\n",
    "from lifelines import KaplanMeierFitter, CoxPHFitter\n",
    "from lifelines.statistics import logrank_test\n",
    "from sksurv.ensemble import RandomSurvivalForest\n",
    "from sksurv.metrics import concordance_index_censored\n",
    "from sklearn.model_selection import train_test_split\n",
    "\n",
    "df = pd.read_csv(\"Data/RADCURE_Clinical_v04_20241219.csv\")\n",
    "\n",
    "df = df.dropna(subset=[\"survival_time\", \"event\", \"age\", \"tumor_stage\", \"treatment_type\"])\n",
    "df[\"event\"] = df[\"event\"].astype(bool)\n",
    "\n",
    "kmf = KaplanMeierFitter()\n",
    "\n",
    "group1 = df[df[\"tumor_stage\"] == \"Stage I\"]\n",
    "group2 = df[df[\"tumor_stage\"] == \"Stage IV\"]\n",
    "\n",
    "kmf.fit(group1[\"survival_time\"], group1[\"event\"])\n",
    "kmf.plot_survival_function()\n",
    "\n",
    "kmf.fit(group2[\"survival_time\"], group2[\"event\"])\n",
    "kmf.plot_survival_function()\n",
    "\n",
    "logrank_test(group1[\"survival_time\"], group2[\"survival_time\"], event_observed_A=group1[\"event\"], event_observed_B=group2[\"event\"])\n",
    "\n",
    "cph_df = df[[\"survival_time\", \"event\", \"age\", \"tumor_stage\", \"treatment_type\"]].copy()\n",
    "cph_df = pd.get_dummies(cph_df, drop_first=True)\n",
    "\n",
    "cph = CoxPHFitter()\n",
    "cph.fit(cph_df, duration_col=\"survival_time\", event_col=\"event\")\n",
    "cph.print_summary()\n",
    "cph.check_assumptions(cph_df)\n",
    "\n",
    "rsf_df = df[[\"survival_time\", \"event\", \"age\", \"tumor_stage\", \"treatment_type\"]].copy()\n",
    "rsf_df = pd.get_dummies(rsf_df, drop_first=True)\n",
    "\n",
    "X = rsf_df.drop(columns=[\"survival_time\", \"event\"])\n",
    "y = rsf_df[[\"event\", \"survival_time\"]]\n",
    "y_struct = np.array([(e, t) for e, t in zip(y[\"event\"], y[\"survival_time\"])], dtype=[(\"event\", bool), (\"time\", float)])\n",
    "\n",
    "X_train, X_test, y_train, y_test = train_test_split(X, y_struct, test_size=0.2, random_state=42)\n",
    "\n",
    "rsf = RandomSurvivalForest(n_estimators=100, min_samples_split=10, min_samples_leaf=15, random_state=42)\n",
    "rsf.fit(X_train, y_train)\n",
    "\n",
    "c_index_rsf = concordance_index_censored(y_test[\"event\"], y_test[\"time\"], rsf.predict(X_test))[0]\n",
    "\n",
    "cph_test = cph_df.drop(columns=[\"survival_time\", \"event\"])\n",
    "cph_pred = cph.predict_partial_hazard(cph_test)\n",
    "c_index_cph = concordance_index_censored(df[\"event\"], df[\"survival_time\"], cph_pred)[0]"
   ]
  },
  {
   "cell_type": "code",
   "execution_count": null,
   "id": "cabb851f",
   "metadata": {},
   "outputs": [],
   "source": []
  }
 ],
 "metadata": {
  "kernelspec": {
   "display_name": "Python 3",
   "language": "python",
   "name": "python3"
  },
  "language_info": {
   "codemirror_mode": {
    "name": "ipython",
    "version": 3
   },
   "file_extension": ".py",
   "mimetype": "text/x-python",
   "name": "python",
   "nbconvert_exporter": "python",
   "pygments_lexer": "ipython3",
   "version": "3.13.1"
  }
 },
 "nbformat": 4,
 "nbformat_minor": 5
}
